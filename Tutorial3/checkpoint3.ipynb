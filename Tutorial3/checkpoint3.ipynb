{
 "cells": [
  {
   "cell_type": "markdown",
   "metadata": {},
   "source": [
    "<h1> The Challenge:</h1>\n",
    "\n",
    "Based off this dataset with school financial, enrollment, and achievement data, we are interested in what information is a useful indicator of student performance at the state level.\n",
    "\n",
    "This question is a bit too big for a checkpoint, however. Instead, we want you to look at smaller questions related to our overall goal. Here's the overview:\n",
    "\n",
    "1. Choose a specific test to focus on\n",
    ">Math/Reading for 4/8 grade\n",
    "* Pick or create features to use\n",
    ">Will all the features be useful in predicting test score? Are some more important than others? Should you standardize, bin, or scale the data?\n",
    "* Explore the data as it relates to that test\n",
    ">Create 2 well-labeled visualizations (graphs), each with a caption describing the graph and what it tells us about the data\n",
    "* Create training and testing data\n",
    ">Do you want to train on all the data? Only data from the last 10 years? Only Michigan data?\n",
    "* Train a ML model to predict outcome \n",
    ">Pick if you want to do a regression or classification task. For both cases, defined _exactly_ what you want to predict, and pick any model in sklearn to use (see sklearn <a href=\"https://scikit-learn.org/stable/modules/linear_model.html\">regressors</a> and <a href=\"https://scikit-learn.org/stable/auto_examples/classification/plot_classifier_comparison.html\">classifiers</a>).\n",
    "* Summarize your findings\n",
    ">Write a 1 paragraph summary of what you did and make a recommendation about if and how student performance can be predicted\n",
    "\n",
    "** Include comments throughout your code! Every cleanup and preprocessing task should be documented.\n",
    "\n",
    "\n",
    "Of course, if you're finding this assignment interesting (and we really hope you do!), you are welcome to do more than the requirements! For example, you may want to see if expenditure affects 4th graders more than 8th graders. Maybe you want to look into the extended version of this dataset and see how factors like sex and race are involved. You can include all your work in this notebook when you turn it in -- just always make sure you explain what you did and interpret your results. Good luck!"
   ]
  },
  {
   "cell_type": "code",
   "execution_count": 38,
   "metadata": {},
   "outputs": [],
   "source": [
    "import pandas as pd\n",
    "import numpy as np\n",
    "import matplotlib.pyplot as plt\n",
    "import seaborn as sns\n",
    "from sklearn.model_selection import train_test_split\n",
    "from sklearn.neural_network import MLPClassifier\n",
    "from sklearn.preprocessing import MinMaxScaler\n",
    "\n",
    "# feel free to import other libraries! "
   ]
  },
  {
   "cell_type": "code",
   "execution_count": 3,
   "metadata": {},
   "outputs": [],
   "source": [
    "df = pd.read_csv('states_edu.csv')"
   ]
  },
  {
   "cell_type": "markdown",
   "metadata": {},
   "source": [
    "Chosen test: **Reading for 4thgrade**"
   ]
  },
  {
   "cell_type": "markdown",
   "metadata": {},
   "source": [
    "<h2> Cleanup (optional)</h2>\n",
    "\n",
    "_Use this space to rename columns, deal with missing data, etc._"
   ]
  },
  {
   "cell_type": "code",
   "execution_count": 108,
   "metadata": {},
   "outputs": [
    {
     "data": {
      "text/html": [
       "<div>\n",
       "<style scoped>\n",
       "    .dataframe tbody tr th:only-of-type {\n",
       "        vertical-align: middle;\n",
       "    }\n",
       "\n",
       "    .dataframe tbody tr th {\n",
       "        vertical-align: top;\n",
       "    }\n",
       "\n",
       "    .dataframe thead th {\n",
       "        text-align: right;\n",
       "    }\n",
       "</style>\n",
       "<table border=\"1\" class=\"dataframe\">\n",
       "  <thead>\n",
       "    <tr style=\"text-align: right;\">\n",
       "      <th></th>\n",
       "      <th>STATE</th>\n",
       "      <th>YEAR</th>\n",
       "      <th>ENROLL</th>\n",
       "      <th>TOTAL_REVENUE</th>\n",
       "      <th>FEDERAL_REVENUE</th>\n",
       "      <th>STATE_REVENUE</th>\n",
       "      <th>LOCAL_REVENUE</th>\n",
       "      <th>TOTAL_EXPENDITURE</th>\n",
       "      <th>INSTRUCTION_EXPENDITURE</th>\n",
       "      <th>SUPPORT_SERVICES_EXPENDITURE</th>\n",
       "      <th>OTHER_EXPENDITURE</th>\n",
       "      <th>CAPITAL_OUTLAY_EXPENDITURE</th>\n",
       "      <th>AVG_READING_4_SCORE</th>\n",
       "      <th>scores</th>\n",
       "    </tr>\n",
       "    <tr>\n",
       "      <th>PRIMARY_KEY</th>\n",
       "      <th></th>\n",
       "      <th></th>\n",
       "      <th></th>\n",
       "      <th></th>\n",
       "      <th></th>\n",
       "      <th></th>\n",
       "      <th></th>\n",
       "      <th></th>\n",
       "      <th></th>\n",
       "      <th></th>\n",
       "      <th></th>\n",
       "      <th></th>\n",
       "      <th></th>\n",
       "      <th></th>\n",
       "    </tr>\n",
       "  </thead>\n",
       "  <tbody>\n",
       "    <tr>\n",
       "      <th>1994_ALABAMA</th>\n",
       "      <td>ALABAMA</td>\n",
       "      <td>1994</td>\n",
       "      <td>730004.0</td>\n",
       "      <td>2970223.0</td>\n",
       "      <td>331823.0</td>\n",
       "      <td>1850894.0</td>\n",
       "      <td>787506.0</td>\n",
       "      <td>3103266.0</td>\n",
       "      <td>1697593.0</td>\n",
       "      <td>826442.0</td>\n",
       "      <td>306977.0</td>\n",
       "      <td>231508.0</td>\n",
       "      <td>208.0</td>\n",
       "      <td>0</td>\n",
       "    </tr>\n",
       "    <tr>\n",
       "      <th>1994_ARIZONA</th>\n",
       "      <td>ARIZONA</td>\n",
       "      <td>1994</td>\n",
       "      <td>708482.0</td>\n",
       "      <td>3566586.0</td>\n",
       "      <td>348847.0</td>\n",
       "      <td>1478372.0</td>\n",
       "      <td>1739367.0</td>\n",
       "      <td>3803379.0</td>\n",
       "      <td>1652311.0</td>\n",
       "      <td>1054136.0</td>\n",
       "      <td>183778.0</td>\n",
       "      <td>696618.0</td>\n",
       "      <td>206.0</td>\n",
       "      <td>0</td>\n",
       "    </tr>\n",
       "    <tr>\n",
       "      <th>1994_ARKANSAS</th>\n",
       "      <td>ARKANSAS</td>\n",
       "      <td>1994</td>\n",
       "      <td>312695.0</td>\n",
       "      <td>1393287.0</td>\n",
       "      <td>132108.0</td>\n",
       "      <td>810396.0</td>\n",
       "      <td>450783.0</td>\n",
       "      <td>1445984.0</td>\n",
       "      <td>816270.0</td>\n",
       "      <td>403608.0</td>\n",
       "      <td>75434.0</td>\n",
       "      <td>105349.0</td>\n",
       "      <td>209.0</td>\n",
       "      <td>0</td>\n",
       "    </tr>\n",
       "    <tr>\n",
       "      <th>1994_CALIFORNIA</th>\n",
       "      <td>CALIFORNIA</td>\n",
       "      <td>1994</td>\n",
       "      <td>4120498.0</td>\n",
       "      <td>23440845.0</td>\n",
       "      <td>2095878.0</td>\n",
       "      <td>13175550.0</td>\n",
       "      <td>8169417.0</td>\n",
       "      <td>23012688.0</td>\n",
       "      <td>12443864.0</td>\n",
       "      <td>6754346.0</td>\n",
       "      <td>1615630.0</td>\n",
       "      <td>1916061.0</td>\n",
       "      <td>197.0</td>\n",
       "      <td>0</td>\n",
       "    </tr>\n",
       "    <tr>\n",
       "      <th>1994_COLORADO</th>\n",
       "      <td>COLORADO</td>\n",
       "      <td>1994</td>\n",
       "      <td>549570.0</td>\n",
       "      <td>3061865.0</td>\n",
       "      <td>165539.0</td>\n",
       "      <td>1269532.0</td>\n",
       "      <td>1626794.0</td>\n",
       "      <td>3113755.0</td>\n",
       "      <td>1574164.0</td>\n",
       "      <td>977343.0</td>\n",
       "      <td>95796.0</td>\n",
       "      <td>328219.0</td>\n",
       "      <td>213.0</td>\n",
       "      <td>0</td>\n",
       "    </tr>\n",
       "    <tr>\n",
       "      <th>...</th>\n",
       "      <td>...</td>\n",
       "      <td>...</td>\n",
       "      <td>...</td>\n",
       "      <td>...</td>\n",
       "      <td>...</td>\n",
       "      <td>...</td>\n",
       "      <td>...</td>\n",
       "      <td>...</td>\n",
       "      <td>...</td>\n",
       "      <td>...</td>\n",
       "      <td>...</td>\n",
       "      <td>...</td>\n",
       "      <td>...</td>\n",
       "      <td>...</td>\n",
       "    </tr>\n",
       "    <tr>\n",
       "      <th>2015_VIRGINIA</th>\n",
       "      <td>VIRGINIA</td>\n",
       "      <td>2015</td>\n",
       "      <td>1279867.0</td>\n",
       "      <td>15857524.0</td>\n",
       "      <td>1012205.0</td>\n",
       "      <td>6240349.0</td>\n",
       "      <td>8604970.0</td>\n",
       "      <td>16113212.0</td>\n",
       "      <td>8755896.0</td>\n",
       "      <td>5075509.0</td>\n",
       "      <td>627473.0</td>\n",
       "      <td>1086722.0</td>\n",
       "      <td>229.0</td>\n",
       "      <td>1</td>\n",
       "    </tr>\n",
       "    <tr>\n",
       "      <th>2015_WASHINGTON</th>\n",
       "      <td>WASHINGTON</td>\n",
       "      <td>2015</td>\n",
       "      <td>1072359.0</td>\n",
       "      <td>13709442.0</td>\n",
       "      <td>1036422.0</td>\n",
       "      <td>8293812.0</td>\n",
       "      <td>4379208.0</td>\n",
       "      <td>13630138.0</td>\n",
       "      <td>6508964.0</td>\n",
       "      <td>4510672.0</td>\n",
       "      <td>546926.0</td>\n",
       "      <td>1601069.0</td>\n",
       "      <td>226.0</td>\n",
       "      <td>1</td>\n",
       "    </tr>\n",
       "    <tr>\n",
       "      <th>2015_WEST_VIRGINIA</th>\n",
       "      <td>WEST_VIRGINIA</td>\n",
       "      <td>2015</td>\n",
       "      <td>279565.0</td>\n",
       "      <td>3478401.0</td>\n",
       "      <td>362959.0</td>\n",
       "      <td>1979466.0</td>\n",
       "      <td>1135976.0</td>\n",
       "      <td>3466981.0</td>\n",
       "      <td>1819903.0</td>\n",
       "      <td>1161944.0</td>\n",
       "      <td>233836.0</td>\n",
       "      <td>232738.0</td>\n",
       "      <td>216.0</td>\n",
       "      <td>0</td>\n",
       "    </tr>\n",
       "    <tr>\n",
       "      <th>2015_WISCONSIN</th>\n",
       "      <td>WISCONSIN</td>\n",
       "      <td>2015</td>\n",
       "      <td>861813.0</td>\n",
       "      <td>11637376.0</td>\n",
       "      <td>814385.0</td>\n",
       "      <td>5869265.0</td>\n",
       "      <td>4953726.0</td>\n",
       "      <td>11553677.0</td>\n",
       "      <td>5723474.0</td>\n",
       "      <td>3691809.0</td>\n",
       "      <td>513402.0</td>\n",
       "      <td>894823.0</td>\n",
       "      <td>223.0</td>\n",
       "      <td>1</td>\n",
       "    </tr>\n",
       "    <tr>\n",
       "      <th>2015_WYOMING</th>\n",
       "      <td>WYOMING</td>\n",
       "      <td>2015</td>\n",
       "      <td>93867.0</td>\n",
       "      <td>1962874.0</td>\n",
       "      <td>120290.0</td>\n",
       "      <td>1116917.0</td>\n",
       "      <td>725667.0</td>\n",
       "      <td>1942406.0</td>\n",
       "      <td>895910.0</td>\n",
       "      <td>565489.0</td>\n",
       "      <td>52520.0</td>\n",
       "      <td>409425.0</td>\n",
       "      <td>228.0</td>\n",
       "      <td>1</td>\n",
       "    </tr>\n",
       "  </tbody>\n",
       "</table>\n",
       "<p>481 rows × 14 columns</p>\n",
       "</div>"
      ],
      "text/plain": [
       "                            STATE  YEAR     ENROLL  TOTAL_REVENUE  \\\n",
       "PRIMARY_KEY                                                         \n",
       "1994_ALABAMA              ALABAMA  1994   730004.0      2970223.0   \n",
       "1994_ARIZONA              ARIZONA  1994   708482.0      3566586.0   \n",
       "1994_ARKANSAS            ARKANSAS  1994   312695.0      1393287.0   \n",
       "1994_CALIFORNIA        CALIFORNIA  1994  4120498.0     23440845.0   \n",
       "1994_COLORADO            COLORADO  1994   549570.0      3061865.0   \n",
       "...                           ...   ...        ...            ...   \n",
       "2015_VIRGINIA            VIRGINIA  2015  1279867.0     15857524.0   \n",
       "2015_WASHINGTON        WASHINGTON  2015  1072359.0     13709442.0   \n",
       "2015_WEST_VIRGINIA  WEST_VIRGINIA  2015   279565.0      3478401.0   \n",
       "2015_WISCONSIN          WISCONSIN  2015   861813.0     11637376.0   \n",
       "2015_WYOMING              WYOMING  2015    93867.0      1962874.0   \n",
       "\n",
       "                    FEDERAL_REVENUE  STATE_REVENUE  LOCAL_REVENUE  \\\n",
       "PRIMARY_KEY                                                         \n",
       "1994_ALABAMA               331823.0      1850894.0       787506.0   \n",
       "1994_ARIZONA               348847.0      1478372.0      1739367.0   \n",
       "1994_ARKANSAS              132108.0       810396.0       450783.0   \n",
       "1994_CALIFORNIA           2095878.0     13175550.0      8169417.0   \n",
       "1994_COLORADO              165539.0      1269532.0      1626794.0   \n",
       "...                             ...            ...            ...   \n",
       "2015_VIRGINIA             1012205.0      6240349.0      8604970.0   \n",
       "2015_WASHINGTON           1036422.0      8293812.0      4379208.0   \n",
       "2015_WEST_VIRGINIA         362959.0      1979466.0      1135976.0   \n",
       "2015_WISCONSIN             814385.0      5869265.0      4953726.0   \n",
       "2015_WYOMING               120290.0      1116917.0       725667.0   \n",
       "\n",
       "                    TOTAL_EXPENDITURE  INSTRUCTION_EXPENDITURE  \\\n",
       "PRIMARY_KEY                                                      \n",
       "1994_ALABAMA                3103266.0                1697593.0   \n",
       "1994_ARIZONA                3803379.0                1652311.0   \n",
       "1994_ARKANSAS               1445984.0                 816270.0   \n",
       "1994_CALIFORNIA            23012688.0               12443864.0   \n",
       "1994_COLORADO               3113755.0                1574164.0   \n",
       "...                               ...                      ...   \n",
       "2015_VIRGINIA              16113212.0                8755896.0   \n",
       "2015_WASHINGTON            13630138.0                6508964.0   \n",
       "2015_WEST_VIRGINIA          3466981.0                1819903.0   \n",
       "2015_WISCONSIN             11553677.0                5723474.0   \n",
       "2015_WYOMING                1942406.0                 895910.0   \n",
       "\n",
       "                    SUPPORT_SERVICES_EXPENDITURE  OTHER_EXPENDITURE  \\\n",
       "PRIMARY_KEY                                                           \n",
       "1994_ALABAMA                            826442.0           306977.0   \n",
       "1994_ARIZONA                           1054136.0           183778.0   \n",
       "1994_ARKANSAS                           403608.0            75434.0   \n",
       "1994_CALIFORNIA                        6754346.0          1615630.0   \n",
       "1994_COLORADO                           977343.0            95796.0   \n",
       "...                                          ...                ...   \n",
       "2015_VIRGINIA                          5075509.0           627473.0   \n",
       "2015_WASHINGTON                        4510672.0           546926.0   \n",
       "2015_WEST_VIRGINIA                     1161944.0           233836.0   \n",
       "2015_WISCONSIN                         3691809.0           513402.0   \n",
       "2015_WYOMING                            565489.0            52520.0   \n",
       "\n",
       "                    CAPITAL_OUTLAY_EXPENDITURE  AVG_READING_4_SCORE  scores  \n",
       "PRIMARY_KEY                                                                  \n",
       "1994_ALABAMA                          231508.0                208.0       0  \n",
       "1994_ARIZONA                          696618.0                206.0       0  \n",
       "1994_ARKANSAS                         105349.0                209.0       0  \n",
       "1994_CALIFORNIA                      1916061.0                197.0       0  \n",
       "1994_COLORADO                         328219.0                213.0       0  \n",
       "...                                        ...                  ...     ...  \n",
       "2015_VIRGINIA                        1086722.0                229.0       1  \n",
       "2015_WASHINGTON                      1601069.0                226.0       1  \n",
       "2015_WEST_VIRGINIA                    232738.0                216.0       0  \n",
       "2015_WISCONSIN                        894823.0                223.0       1  \n",
       "2015_WYOMING                          409425.0                228.0       1  \n",
       "\n",
       "[481 rows x 14 columns]"
      ]
     },
     "execution_count": 108,
     "metadata": {},
     "output_type": "execute_result"
    }
   ],
   "source": [
    "df = pd.read_csv('states_edu.csv')\n",
    "rmlist=['GRADES_PK_G', 'GRADES_KG_G',\n",
    "       'GRADES_4_G', 'GRADES_8_G', 'GRADES_12_G', 'GRADES_1_8_G',\n",
    "       'GRADES_9_12_G', 'GRADES_ALL_G', 'AVG_MATH_4_SCORE', 'AVG_MATH_8_SCORE',\n",
    "       'AVG_READING_8_SCORE']\n",
    "#item to remove, didnt know what these were and didnt want other test scores in there as it could be data leakage\n",
    "df.drop(rmlist,axis=1,inplace=True) #removes the columns above\n",
    "df.dropna(inplace=True) #drops NAN values\n",
    "#we dont have all #s so I am going to drop state too\n",
    "df.set_index('PRIMARY_KEY',inplace=True) #sets the index to the year-state combo item, just for refrence\n",
    "df['scores']=1 \n",
    "df.loc[df.AVG_READING_4_SCORE < 220, 'scores'] = 0\n",
    "#these two lines create the column \"score\" which I was using as a classifier, the first line makes the new column with all values to 1 (or in my case was better than the nationa average 4th grade reading score)\n",
    "#the second line says if the reading score is less than 220 to assign it to class 0 or was worse than national average\n",
    "df"
   ]
  },
  {
   "cell_type": "markdown",
   "metadata": {},
   "source": [
    "<h2> Feature Selection </h2>\n",
    "\n",
    "_Use this space to modify or create features_"
   ]
  },
  {
   "cell_type": "code",
   "execution_count": null,
   "metadata": {},
   "outputs": [],
   "source": [
    "'I kinda did this above lol with dropping non existance features and such, will come back to this if there is significant data leakage (no data leakage we good)'"
   ]
  },
  {
   "cell_type": "markdown",
   "metadata": {},
   "source": [
    "Final feature list: YEAR\tENROLL\tTOTAL_REVENUE\tFEDERAL_REVENUE\tSTATE_REVENUE\tLOCAL_REVENUE\tTOTAL_EXPENDITURE\tINSTRUCTION_EXPENDITURE\tSUPPORT_SERVICES_EXPENDITURE\tOTHER_EXPENDITURE\tCAPITAL_OUTLAY_EXPENDITURE "
   ]
  },
  {
   "cell_type": "markdown",
   "metadata": {},
   "source": [
    "Feature selection justification: I picked these features because I knew what they were. Also becuase within these features there is probably not a large possibility of data leakage, and the more data the better."
   ]
  },
  {
   "cell_type": "markdown",
   "metadata": {},
   "source": [
    "<h2> EDA </h2>"
   ]
  },
  {
   "cell_type": "markdown",
   "metadata": {},
   "source": [
    "Visualization 1"
   ]
  },
  {
   "cell_type": "code",
   "execution_count": 111,
   "metadata": {},
   "outputs": [
    {
     "data": {
      "text/plain": [
       "<matplotlib.axes._subplots.AxesSubplot at 0x7fa6e2bcea10>"
      ]
     },
     "execution_count": 111,
     "metadata": {},
     "output_type": "execute_result"
    },
    {
     "data": {
      "image/png": "[encoded data removed]",
      "text/plain": [
       "<Figure size 432x288 with 1 Axes>"
      ]
     },
     "metadata": {
      "needs_background": "light"
     },
     "output_type": "display_data"
    }
   ],
   "source": [
    "sns.distplot(df['AVG_READING_4_SCORE']) #plot distribution of scores"
   ]
  },
  {
   "cell_type": "markdown",
   "metadata": {},
   "source": [
    "We want to look at a distribution of our result data aka what we are modeling. This is important because i chose to train a classifier on if the score was >220 (I looked it up and that was the mean score in 2019). Visualizing this allows us to see a picture of what we are actually analyzing. Also looks like there is an outlier at 180 and it is roughly normal shaped"
   ]
  },
  {
   "cell_type": "markdown",
   "metadata": {},
   "source": [
    "Visualization 2"
   ]
  },
  {
   "cell_type": "code",
   "execution_count": 113,
   "metadata": {},
   "outputs": [
    {
     "data": {
      "text/plain": [
       "<matplotlib.axes._subplots.AxesSubplot at 0x7fa6df5d1190>"
      ]
     },
     "execution_count": 113,
     "metadata": {},
     "output_type": "execute_result"
    },
    {
     "data": {
      "image/png": "[encoded data removed]",
      "text/plain": [
       "<Figure size 432x288 with 1 Axes>"
      ]
     },
     "metadata": {
      "needs_background": "light"
     },
     "output_type": "display_data"
    }
   ],
   "source": [
    "sns.scatterplot(data=df,y='TOTAL_EXPENDITURE',x='AVG_READING_4_SCORE')"
   ]
  },
  {
   "cell_type": "markdown",
   "metadata": {},
   "source": [
    "I felt that there might be a strong correlation between total spending by the schools and reading score, however this doesnt really seem to be the case. If i was doing a more professional assignment I would probably look at each score range vs expenditure instead of a scatterplot."
   ]
  },
  {
   "cell_type": "markdown",
   "metadata": {},
   "source": [
    "<h2> Data Creation </h2>\n",
    "\n",
    "_Use this space to create train/test data_"
   ]
  },
  {
   "cell_type": "code",
   "execution_count": 36,
   "metadata": {},
   "outputs": [],
   "source": [
    "from sklearn.model_selection import train_test_split"
   ]
  },
  {
   "cell_type": "code",
   "execution_count": 121,
   "metadata": {},
   "outputs": [],
   "source": [
    "X = df.drop(['STATE','scores','AVG_READING_4_SCORE'],axis=1) #dropped the non numeric columns for X\n",
    "y = df['scores'] #assigned the labels to y\n",
    "\n",
    "X_train, X_test, y_train, y_test = train_test_split(\n",
    "X, y, random_state=0) #split the data ahah\n",
    "\n",
    "scaler = MinMaxScaler() #scaled the data\n",
    "X_train_scaled = scaler.fit_transform(X_train)\n",
    "X_test_scaled = scaler.transform(X_test)\n"
   ]
  },
  {
   "cell_type": "code",
   "execution_count": null,
   "metadata": {},
   "outputs": [],
   "source": []
  },
  {
   "cell_type": "markdown",
   "metadata": {},
   "source": [
    "<h2> Prediction </h2>"
   ]
  },
  {
   "cell_type": "markdown",
   "metadata": {},
   "source": [
    "Chosen ML task: **<REGRESSION/CLASSIFICATION>**"
   ]
  },
  {
   "cell_type": "code",
   "execution_count": 58,
   "metadata": {},
   "outputs": [],
   "source": [
    "from sklearn.ensemble import GradientBoostingClassifier"
   ]
  },
  {
   "cell_type": "code",
   "execution_count": 77,
   "metadata": {},
   "outputs": [],
   "source": [
    "# I did grid search here but that took so long to run so I just didnt do that for the model but look I can do gridsearch lol\n",
    "'''from sklearn.model_selection import GridSearchCV\n",
    "grid_values = {'n_estimators': [100,50,60,70,150,200], \n",
    "               'max_features':['auto', 'sqrt'],\n",
    "               'max_depth':[0,1,2,3,4,None],\n",
    "                'min_samples_split':[2, 5, 10],\n",
    "               'min_samples_leaf' : [1, 2, 4]}\n",
    "model=GridSearchCV(GradientBoostingClassifier(), param_grid=grid_values, n_jobs = -1,scoring = 'roc_auc')'''"
   ]
  },
  {
   "cell_type": "code",
   "execution_count": 91,
   "metadata": {},
   "outputs": [
    {
     "data": {
      "text/plain": [
       "GradientBoostingClassifier(ccp_alpha=0.0, criterion='friedman_mse', init=None,\n",
       "                           learning_rate=0.1, loss='deviance', max_depth=3,\n",
       "                           max_features='auto', max_leaf_nodes=None,\n",
       "                           min_impurity_decrease=0.0, min_impurity_split=None,\n",
       "                           min_samples_leaf=1, min_samples_split=2,\n",
       "                           min_weight_fraction_leaf=0.0, n_estimators=200,\n",
       "                           n_iter_no_change=None, presort='deprecated',\n",
       "                           random_state=None, subsample=1.0, tol=0.0001,\n",
       "                           validation_fraction=0.1, verbose=0,\n",
       "                           warm_start=False)"
      ]
     },
     "execution_count": 91,
     "metadata": {},
     "output_type": "execute_result"
    }
   ],
   "source": [
    "model=GradientBoostingClassifier(max_features= 'auto', min_samples_leaf= 1, n_estimators= 200) #created model object\n",
    "model.fit(X_train, y_train) #fit model"
   ]
  },
  {
   "cell_type": "code",
   "execution_count": null,
   "metadata": {},
   "outputs": [],
   "source": []
  },
  {
   "cell_type": "code",
   "execution_count": 120,
   "metadata": {},
   "outputs": [
    {
     "data": {
      "text/plain": [
       "<sklearn.metrics._plot.confusion_matrix.ConfusionMatrixDisplay at 0x7fa6dfbfc390>"
      ]
     },
     "execution_count": 120,
     "metadata": {},
     "output_type": "execute_result"
    },
    {
     "data": {
      "image/png": "[encoded data removed]",
      "text/plain": [
       "<Figure size 432x288 with 2 Axes>"
      ]
     },
     "metadata": {
      "needs_background": "light"
     },
     "output_type": "display_data"
    }
   ],
   "source": [
    "# for classification:\n",
    "from sklearn.metrics import plot_confusion_matrix\n",
    "from sklearn.metrics import roc_auc_score\n",
    "\n",
    "plot_confusion_matrix(model, X_test, y_test,\n",
    "                         cmap=plt.cm.Blues)\n",
    "#y_pred = model.predict(X_test)\n",
    "#roc_auc_score(y_test,y_pred)\n",
    "#model.score(X_test, y_test) #saw accuracy and ROC the latter is what it was tuned on\n"
   ]
  },
  {
   "cell_type": "code",
   "execution_count": 89,
   "metadata": {},
   "outputs": [
    {
     "data": {
      "text/plain": [
       "'col_name = ??\\ncol_index = X_train.columns.get_loc(col_name)\\n\\nf = plt.figure(figsize=(12,6))\\nplt.scatter(X_train[col_name], y_train, color = \"red\")\\nplt.scatter(X_train[col_name], model.predict(X_train), color = \"green\")\\nplt.scatter(X_test[col_name], model.predict(X_test), color = \"blue\")\\n\\nnew_x = np.linspace(X_train[col_name].min(),X_train[col_name].max(),200)\\nintercept = model.predict([X_train.sort_values(col_name).iloc[0]]) - X_train[col_name].min()*model.coef_[col_index]\\nplt.plot(new_x, intercept+new_x*model.coef_[col_index])\\n\\nplt.legend([\\'controlled model\\',\\'true training\\',\\'predicted training\\',\\'predicted testing\\'])\\nplt.xlabel(col_name)\\nplt.ylabel(??)'"
      ]
     },
     "execution_count": 89,
     "metadata": {},
     "output_type": "execute_result"
    }
   ],
   "source": [
    "# for regression: (pick a single column to visualize results)\n",
    "\n",
    "# Results from this graph _should not_ be used as a part of your results -- it is just here to help with intuition. \n",
    "# Instead, look at the error values and individual intercepts.\n",
    "\n",
    "\n",
    "'''col_name = ??\n",
    "col_index = X_train.columns.get_loc(col_name)\n",
    "\n",
    "f = plt.figure(figsize=(12,6))\n",
    "plt.scatter(X_train[col_name], y_train, color = \"red\")\n",
    "plt.scatter(X_train[col_name], model.predict(X_train), color = \"green\")\n",
    "plt.scatter(X_test[col_name], model.predict(X_test), color = \"blue\")\n",
    "\n",
    "new_x = np.linspace(X_train[col_name].min(),X_train[col_name].max(),200)\n",
    "intercept = model.predict([X_train.sort_values(col_name).iloc[0]]) - X_train[col_name].min()*model.coef_[col_index]\n",
    "plt.plot(new_x, intercept+new_x*model.coef_[col_index])\n",
    "\n",
    "plt.legend(['controlled model','true training','predicted training','predicted testing'])\n",
    "plt.xlabel(col_name)\n",
    "plt.ylabel(??)'''"
   ]
  },
  {
   "cell_type": "markdown",
   "metadata": {},
   "source": [
    "<h2> Summary </h2>"
   ]
  },
  {
   "cell_type": "markdown",
   "metadata": {},
   "source": [
    "I wanted to predict if a school would be above or below the national average for the 4th grade reading assessment. My model works with high ROC (roughly 73) and 90% accuracy. These numbers arent the best and probably hint to overfitting, however this is just an intro assignment so I dont want to spend hours enumerating my model lol. I dont think 90% is too bad considering it was trained on ROC evaluation, if i had optimized for accuracy instead  I probably could have done better, but i think the ML community needs to work on changing the evaluation metrics somewhat. I think also when I did gridsearch the accuracy was much higher but I didnt wanna put that in here because it takes a lot of time. Student preformances can be predicted pretty well (also I dont really know why i optimized for ROC i just like it lol). If i was doing this for a client I would also make sure to visualize a tree for them to look at (also yes I probably shouldve tried naive-bayes or some other model too this was just a tutorial lol). There is at least one variable that appears to predict 4th grade reading scores pretty well considering my accuracy was 90% while not even optimizing for it."
   ]
  }
 ],
 "metadata": {
  "kernelspec": {
   "display_name": "Python 3",
   "language": "python",
   "name": "python3"
  },
  "language_info": {
   "codemirror_mode": {
    "name": "ipython",
    "version": 3
   },
   "file_extension": ".py",
   "mimetype": "text/x-python",
   "name": "python",
   "nbconvert_exporter": "python",
   "pygments_lexer": "ipython3",
   "version": "3.7.6"
  }
 },
 "nbformat": 4,
 "nbformat_minor": 4
}
